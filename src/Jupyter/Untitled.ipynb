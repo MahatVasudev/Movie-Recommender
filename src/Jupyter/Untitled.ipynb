{
 "cells": [
  {
   "cell_type": "code",
   "execution_count": 2,
   "id": "bf8e900a",
   "metadata": {},
   "outputs": [],
   "source": [
    "from surprise import Dataset, Reader, SVD,KNNWithMeans"
   ]
  },
  {
   "cell_type": "code",
   "execution_count": 3,
   "id": "9530291c",
   "metadata": {},
   "outputs": [],
   "source": [
    "import pandas as pd"
   ]
  },
  {
   "cell_type": "code",
   "execution_count": 4,
   "id": "5864d890",
   "metadata": {},
   "outputs": [],
   "source": [
    "from surprise.model_selection import cross_validate"
   ]
  },
  {
   "cell_type": "code",
   "execution_count": 5,
   "id": "e42a9b18",
   "metadata": {},
   "outputs": [],
   "source": [
    "ratings = pd.read_csv(\"E:/Internship/data/ratings_cleaned_v1.csv\",sep=\"\\t\")"
   ]
  },
  {
   "cell_type": "code",
   "execution_count": 6,
   "id": "3ee14b5b",
   "metadata": {},
   "outputs": [],
   "source": [
    "reader = Reader()\n",
    "\n",
    "data = Dataset.load_from_df(ratings[['userId','movieId','rating']],reader)"
   ]
  },
  {
   "cell_type": "code",
   "execution_count": null,
   "id": "1dbfbe92-e8a6-455d-a5dc-8e1f417006e5",
   "metadata": {},
   "outputs": [],
   "source": [
    "svd = SVD()"
   ]
  },
  {
   "cell_type": "code",
   "execution_count": 7,
   "id": "55eb9c51",
   "metadata": {},
   "outputs": [],
   "source": [
    "train_set = data.build_full_trainset()"
   ]
  },
  {
   "cell_type": "code",
   "execution_count": 8,
   "id": "f05b4f2b",
   "metadata": {},
   "outputs": [
    {
     "name": "stdout",
     "output_type": "stream",
     "text": [
      "Computing the cosine similarity matrix...\n",
      "Done computing similarity matrix.\n",
      "Computing the cosine similarity matrix...\n",
      "Done computing similarity matrix.\n"
     ]
    }
   ],
   "source": [
    "Knn_model = KNNWithMeans(\n",
    "    sim_options={'name':'cosine',\n",
    "                 'user_based':False}\n",
    "    ).fit(train_set).compute_similarities()"
   ]
  },
  {
   "cell_type": "code",
   "execution_count": 14,
   "id": "10ca3552-0fcb-4bde-a06c-c36e338d7a97",
   "metadata": {},
   "outputs": [],
   "source": [
    "k =20"
   ]
  },
  {
   "cell_type": "code",
   "execution_count": 77,
   "id": "2cce1266",
   "metadata": {},
   "outputs": [],
   "source": [
    "test_subject = 2\n",
    "\n",
    "test_subject_iid = train_set.to_inner_uid(test_subject)"
   ]
  },
  {
   "cell_type": "code",
   "execution_count": 78,
   "id": "b5724e60",
   "metadata": {},
   "outputs": [],
   "source": [
    "test_subject_ratings = train_set.ur[test_subject_iid]"
   ]
  },
  {
   "cell_type": "code",
   "execution_count": 11,
   "id": "6d07c18c-bd74-4af4-981e-ad5eb7c00cdd",
   "metadata": {},
   "outputs": [],
   "source": [
    "import heapq"
   ]
  },
  {
   "cell_type": "code",
   "execution_count": 79,
   "id": "0d3b5c27-2983-4da1-afac-d7de67b75c37",
   "metadata": {},
   "outputs": [
    {
     "data": {
      "text/plain": [
       "[(0, 1.0),\n",
       " (1, 4.5),\n",
       " (2, 5.0),\n",
       " (3, 5.0),\n",
       " (4, 4.0),\n",
       " (5, 4.5),\n",
       " (6, 4.0),\n",
       " (7, 4.0),\n",
       " (8, 3.5),\n",
       " (9, 4.0),\n",
       " (10, 5.0)]"
      ]
     },
     "execution_count": 79,
     "metadata": {},
     "output_type": "execute_result"
    }
   ],
   "source": [
    "test_subject_ratings"
   ]
  },
  {
   "cell_type": "code",
   "execution_count": 80,
   "id": "54d72990-794b-4c3d-b0e9-ffba500c6469",
   "metadata": {},
   "outputs": [],
   "source": [
    "k_neighbours = heapq.nlargest(k, test_subject_ratings, key=lambda t:t[1])"
   ]
  },
  {
   "cell_type": "code",
   "execution_count": 81,
   "id": "2058d311-4244-494a-b4e9-5a42bcd0e0da",
   "metadata": {},
   "outputs": [
    {
     "data": {
      "text/plain": [
       "[(2, 5.0),\n",
       " (3, 5.0),\n",
       " (10, 5.0),\n",
       " (1, 4.5),\n",
       " (5, 4.5),\n",
       " (4, 4.0),\n",
       " (6, 4.0),\n",
       " (7, 4.0),\n",
       " (9, 4.0),\n",
       " (8, 3.5),\n",
       " (0, 1.0)]"
      ]
     },
     "execution_count": 81,
     "metadata": {},
     "output_type": "execute_result"
    }
   ],
   "source": [
    "k_neighbours"
   ]
  },
  {
   "cell_type": "code",
   "execution_count": 17,
   "id": "6a65dd3f-c2f1-40ca-bf73-9fa0871da39d",
   "metadata": {},
   "outputs": [],
   "source": [
    "from collections import defaultdict"
   ]
  },
  {
   "cell_type": "code",
   "execution_count": 82,
   "id": "e4cb7f52-c952-462a-99f4-2b6dcbd29b38",
   "metadata": {},
   "outputs": [],
   "source": [
    "candidates = defaultdict(float)"
   ]
  },
  {
   "cell_type": "code",
   "execution_count": 83,
   "id": "777778ec-a919-4e66-8ca1-4844f875c7ca",
   "metadata": {},
   "outputs": [],
   "source": [
    "for itemID, rating in k_neighbours:\n",
    "    try:\n",
    "        similarities = Knn_model[itemID]\n",
    "        for innerID, score in enumerate(similarities):\n",
    "            candidates[innerID] += score * (rating/10)\n",
    "    except:\n",
    "        continue\n",
    "\n"
   ]
  },
  {
   "cell_type": "code",
   "execution_count": 84,
   "id": "7c444770-303e-4643-86f6-1b8cd5f77506",
   "metadata": {},
   "outputs": [],
   "source": [
    "movies = pd.read_csv(\"E:/Internship/data/movies_final.csv\",sep=\"\\t\")"
   ]
  },
  {
   "cell_type": "code",
   "execution_count": 85,
   "id": "d525a853-3e66-48c5-94dd-107cbc6d4980",
   "metadata": {},
   "outputs": [
    {
     "data": {
      "text/html": [
       "<div>\n",
       "<style scoped>\n",
       "    .dataframe tbody tr th:only-of-type {\n",
       "        vertical-align: middle;\n",
       "    }\n",
       "\n",
       "    .dataframe tbody tr th {\n",
       "        vertical-align: top;\n",
       "    }\n",
       "\n",
       "    .dataframe thead th {\n",
       "        text-align: right;\n",
       "    }\n",
       "</style>\n",
       "<table border=\"1\" class=\"dataframe\">\n",
       "  <thead>\n",
       "    <tr style=\"text-align: right;\">\n",
       "      <th></th>\n",
       "      <th>id</th>\n",
       "      <th>original_title</th>\n",
       "      <th>title</th>\n",
       "      <th>new_title</th>\n",
       "      <th>imdb_id</th>\n",
       "      <th>budget</th>\n",
       "      <th>revenue</th>\n",
       "      <th>year</th>\n",
       "      <th>runtime</th>\n",
       "      <th>release_date</th>\n",
       "      <th>age_rating</th>\n",
       "      <th>vote_average</th>\n",
       "      <th>vote_count</th>\n",
       "      <th>popularity</th>\n",
       "      <th>critical_score</th>\n",
       "    </tr>\n",
       "  </thead>\n",
       "  <tbody>\n",
       "    <tr>\n",
       "      <th>0</th>\n",
       "      <td>862</td>\n",
       "      <td>Toy Story</td>\n",
       "      <td>Toy Story</td>\n",
       "      <td>Toy Story (1995)</td>\n",
       "      <td>tt0114709</td>\n",
       "      <td>30000000</td>\n",
       "      <td>373554033.0</td>\n",
       "      <td>1995</td>\n",
       "      <td>81.0</td>\n",
       "      <td>1995-10-30</td>\n",
       "      <td>G</td>\n",
       "      <td>7.7</td>\n",
       "      <td>5415.0</td>\n",
       "      <td>21.946943</td>\n",
       "      <td>2353.324641</td>\n",
       "    </tr>\n",
       "    <tr>\n",
       "      <th>1</th>\n",
       "      <td>8844</td>\n",
       "      <td>Jumanji</td>\n",
       "      <td>Jumanji</td>\n",
       "      <td>Jumanji (1995)</td>\n",
       "      <td>tt0113497</td>\n",
       "      <td>65000000</td>\n",
       "      <td>262797249.0</td>\n",
       "      <td>1995</td>\n",
       "      <td>104.0</td>\n",
       "      <td>1995-12-15</td>\n",
       "      <td>PG</td>\n",
       "      <td>6.9</td>\n",
       "      <td>2413.0</td>\n",
       "      <td>17.015539</td>\n",
       "      <td>778.136085</td>\n",
       "    </tr>\n",
       "    <tr>\n",
       "      <th>2</th>\n",
       "      <td>15602</td>\n",
       "      <td>Grumpier Old Men</td>\n",
       "      <td>Grumpier Old Men</td>\n",
       "      <td>Grumpier Old Men (1995)</td>\n",
       "      <td>tt0113228</td>\n",
       "      <td>0</td>\n",
       "      <td>0.0</td>\n",
       "      <td>1995</td>\n",
       "      <td>101.0</td>\n",
       "      <td>1995-12-22</td>\n",
       "      <td>PG-13</td>\n",
       "      <td>6.5</td>\n",
       "      <td>92.0</td>\n",
       "      <td>11.712900</td>\n",
       "      <td>26.278206</td>\n",
       "    </tr>\n",
       "    <tr>\n",
       "      <th>3</th>\n",
       "      <td>31357</td>\n",
       "      <td>Waiting to Exhale</td>\n",
       "      <td>Waiting to Exhale</td>\n",
       "      <td>Waiting to Exhale (1995)</td>\n",
       "      <td>tt0114885</td>\n",
       "      <td>16000000</td>\n",
       "      <td>81452156.0</td>\n",
       "      <td>1995</td>\n",
       "      <td>127.0</td>\n",
       "      <td>1995-12-22</td>\n",
       "      <td>R</td>\n",
       "      <td>6.1</td>\n",
       "      <td>34.0</td>\n",
       "      <td>3.859495</td>\n",
       "      <td>8.715714</td>\n",
       "    </tr>\n",
       "    <tr>\n",
       "      <th>4</th>\n",
       "      <td>11862</td>\n",
       "      <td>Father of the Bride Part II</td>\n",
       "      <td>Father of the Bride Part II</td>\n",
       "      <td>Father of the Bride Part II (1995)</td>\n",
       "      <td>tt0113041</td>\n",
       "      <td>0</td>\n",
       "      <td>76578911.0</td>\n",
       "      <td>1995</td>\n",
       "      <td>106.0</td>\n",
       "      <td>1995-02-10</td>\n",
       "      <td>PG</td>\n",
       "      <td>5.7</td>\n",
       "      <td>173.0</td>\n",
       "      <td>8.387519</td>\n",
       "      <td>40.223204</td>\n",
       "    </tr>\n",
       "    <tr>\n",
       "      <th>...</th>\n",
       "      <td>...</td>\n",
       "      <td>...</td>\n",
       "      <td>...</td>\n",
       "      <td>...</td>\n",
       "      <td>...</td>\n",
       "      <td>...</td>\n",
       "      <td>...</td>\n",
       "      <td>...</td>\n",
       "      <td>...</td>\n",
       "      <td>...</td>\n",
       "      <td>...</td>\n",
       "      <td>...</td>\n",
       "      <td>...</td>\n",
       "      <td>...</td>\n",
       "      <td>...</td>\n",
       "    </tr>\n",
       "    <tr>\n",
       "      <th>45394</th>\n",
       "      <td>439050</td>\n",
       "      <td>رگ خواب</td>\n",
       "      <td>Subdue</td>\n",
       "      <td>Subdue (2017)</td>\n",
       "      <td>tt6209470</td>\n",
       "      <td>0</td>\n",
       "      <td>0.0</td>\n",
       "      <td>2017</td>\n",
       "      <td>90.0</td>\n",
       "      <td>2017-06-14</td>\n",
       "      <td>Not Rated</td>\n",
       "      <td>4.0</td>\n",
       "      <td>1.0</td>\n",
       "      <td>0.072051</td>\n",
       "      <td>0.166639</td>\n",
       "    </tr>\n",
       "    <tr>\n",
       "      <th>45395</th>\n",
       "      <td>111109</td>\n",
       "      <td>Siglo ng Pagluluwal</td>\n",
       "      <td>Century of Birthing</td>\n",
       "      <td>Century of Birthing (2011)</td>\n",
       "      <td>tt2028550</td>\n",
       "      <td>0</td>\n",
       "      <td>0.0</td>\n",
       "      <td>2011</td>\n",
       "      <td>360.0</td>\n",
       "      <td>2011-11-17</td>\n",
       "      <td>Not Rated</td>\n",
       "      <td>9.0</td>\n",
       "      <td>3.0</td>\n",
       "      <td>0.178241</td>\n",
       "      <td>2.997003</td>\n",
       "    </tr>\n",
       "    <tr>\n",
       "      <th>45396</th>\n",
       "      <td>67758</td>\n",
       "      <td>Betrayal</td>\n",
       "      <td>Betrayal</td>\n",
       "      <td>Betrayal (2003)</td>\n",
       "      <td>tt0303758</td>\n",
       "      <td>0</td>\n",
       "      <td>0.0</td>\n",
       "      <td>2003</td>\n",
       "      <td>90.0</td>\n",
       "      <td>2003-08-01</td>\n",
       "      <td>R</td>\n",
       "      <td>3.8</td>\n",
       "      <td>6.0</td>\n",
       "      <td>0.903007</td>\n",
       "      <td>0.967586</td>\n",
       "    </tr>\n",
       "    <tr>\n",
       "      <th>45397</th>\n",
       "      <td>227506</td>\n",
       "      <td>Satana likuyushchiy</td>\n",
       "      <td>Satan Triumphant</td>\n",
       "      <td>Satan Triumphant (1917)</td>\n",
       "      <td>tt0008536</td>\n",
       "      <td>0</td>\n",
       "      <td>0.0</td>\n",
       "      <td>1917</td>\n",
       "      <td>87.0</td>\n",
       "      <td>1917-10-21</td>\n",
       "      <td>Not Rated</td>\n",
       "      <td>0.0</td>\n",
       "      <td>0.0</td>\n",
       "      <td>0.003503</td>\n",
       "      <td>0.000000</td>\n",
       "    </tr>\n",
       "    <tr>\n",
       "      <th>45398</th>\n",
       "      <td>461257</td>\n",
       "      <td>Queerama</td>\n",
       "      <td>Queerama</td>\n",
       "      <td>Queerama (2017)</td>\n",
       "      <td>tt6980792</td>\n",
       "      <td>0</td>\n",
       "      <td>0.0</td>\n",
       "      <td>2017</td>\n",
       "      <td>75.0</td>\n",
       "      <td>2017-06-09</td>\n",
       "      <td>Not Rated</td>\n",
       "      <td>0.0</td>\n",
       "      <td>0.0</td>\n",
       "      <td>0.163015</td>\n",
       "      <td>0.000000</td>\n",
       "    </tr>\n",
       "  </tbody>\n",
       "</table>\n",
       "<p>45399 rows × 15 columns</p>\n",
       "</div>"
      ],
      "text/plain": [
       "           id               original_title                        title  \\\n",
       "0         862                    Toy Story                    Toy Story   \n",
       "1        8844                      Jumanji                      Jumanji   \n",
       "2       15602             Grumpier Old Men             Grumpier Old Men   \n",
       "3       31357            Waiting to Exhale            Waiting to Exhale   \n",
       "4       11862  Father of the Bride Part II  Father of the Bride Part II   \n",
       "...       ...                          ...                          ...   \n",
       "45394  439050                      رگ خواب                       Subdue   \n",
       "45395  111109          Siglo ng Pagluluwal          Century of Birthing   \n",
       "45396   67758                     Betrayal                     Betrayal   \n",
       "45397  227506          Satana likuyushchiy             Satan Triumphant   \n",
       "45398  461257                     Queerama                     Queerama   \n",
       "\n",
       "                                new_title    imdb_id    budget      revenue  \\\n",
       "0                        Toy Story (1995)  tt0114709  30000000  373554033.0   \n",
       "1                          Jumanji (1995)  tt0113497  65000000  262797249.0   \n",
       "2                 Grumpier Old Men (1995)  tt0113228         0          0.0   \n",
       "3                Waiting to Exhale (1995)  tt0114885  16000000   81452156.0   \n",
       "4      Father of the Bride Part II (1995)  tt0113041         0   76578911.0   \n",
       "...                                   ...        ...       ...          ...   \n",
       "45394                       Subdue (2017)  tt6209470         0          0.0   \n",
       "45395          Century of Birthing (2011)  tt2028550         0          0.0   \n",
       "45396                     Betrayal (2003)  tt0303758         0          0.0   \n",
       "45397             Satan Triumphant (1917)  tt0008536         0          0.0   \n",
       "45398                     Queerama (2017)  tt6980792         0          0.0   \n",
       "\n",
       "       year  runtime release_date age_rating  vote_average  vote_count  \\\n",
       "0      1995     81.0   1995-10-30          G           7.7      5415.0   \n",
       "1      1995    104.0   1995-12-15         PG           6.9      2413.0   \n",
       "2      1995    101.0   1995-12-22      PG-13           6.5        92.0   \n",
       "3      1995    127.0   1995-12-22          R           6.1        34.0   \n",
       "4      1995    106.0   1995-02-10         PG           5.7       173.0   \n",
       "...     ...      ...          ...        ...           ...         ...   \n",
       "45394  2017     90.0   2017-06-14  Not Rated           4.0         1.0   \n",
       "45395  2011    360.0   2011-11-17  Not Rated           9.0         3.0   \n",
       "45396  2003     90.0   2003-08-01          R           3.8         6.0   \n",
       "45397  1917     87.0   1917-10-21  Not Rated           0.0         0.0   \n",
       "45398  2017     75.0   2017-06-09  Not Rated           0.0         0.0   \n",
       "\n",
       "       popularity  critical_score  \n",
       "0       21.946943     2353.324641  \n",
       "1       17.015539      778.136085  \n",
       "2       11.712900       26.278206  \n",
       "3        3.859495        8.715714  \n",
       "4        8.387519       40.223204  \n",
       "...           ...             ...  \n",
       "45394    0.072051        0.166639  \n",
       "45395    0.178241        2.997003  \n",
       "45396    0.903007        0.967586  \n",
       "45397    0.003503        0.000000  \n",
       "45398    0.163015        0.000000  \n",
       "\n",
       "[45399 rows x 15 columns]"
      ]
     },
     "execution_count": 85,
     "metadata": {},
     "output_type": "execute_result"
    }
   ],
   "source": [
    "movies"
   ]
  },
  {
   "cell_type": "code",
   "execution_count": 86,
   "id": "06e32129-010e-48eb-a376-cad0c32d19a3",
   "metadata": {},
   "outputs": [],
   "source": [
    "def getMoviename(movieId):\n",
    "    if int(movieId) in movies['id'].values:\n",
    "        return movies[movies['id'] == int(movieId)]['new_title'].values[0]\n",
    "\n",
    "    else:\n",
    "        print(\"Movie Not Found\")"
   ]
  },
  {
   "cell_type": "code",
   "execution_count": 87,
   "id": "e1cdb865-6486-4c52-8a77-41ddd0cf11a4",
   "metadata": {},
   "outputs": [
    {
     "data": {
      "text/plain": [
       "'Dancer in the Dark (2000)'"
      ]
     },
     "execution_count": 87,
     "metadata": {},
     "output_type": "execute_result"
    }
   ],
   "source": [
    "getMoviename(16)"
   ]
  },
  {
   "cell_type": "code",
   "execution_count": 88,
   "id": "2b32d830-0cf6-426d-859e-e1d46c0787eb",
   "metadata": {},
   "outputs": [],
   "source": [
    "from operator import itemgetter"
   ]
  },
  {
   "cell_type": "code",
   "execution_count": 89,
   "id": "a68a8013-e01e-4327-9c0c-964d8adbda9d",
   "metadata": {},
   "outputs": [],
   "source": [
    "watched = {}\n",
    "\n",
    "for itemId, rating in train_set.ur[test_subject_iid]:\n",
    "    watched[itemId]=1\n",
    "\n",
    "recommendations = []\n",
    "\n",
    "for itemId, rating_sum in sorted(candidates.items(), key=itemgetter(1),reverse=True):\n",
    "    if not itemId in watched:\n",
    "        recommendations.append(getMoviename(train_set.to_raw_iid(itemId)))\n",
    "        if len(recommendations) >= 10:\n",
    "            break"
   ]
  },
  {
   "cell_type": "code",
   "execution_count": 90,
   "id": "94079333-1c31-4e4a-8023-2ad0e13d11ad",
   "metadata": {},
   "outputs": [
    {
     "data": {
      "text/plain": [
       "['Mad at the Moon (1992)',\n",
       " 'The House of Smiles (1991)',\n",
       " 'Malarek (1988)',\n",
       " 'Melody for a Street Organ (2009)',\n",
       " 'Taken (2002)',\n",
       " 'Jesus liebt mich (2012)',\n",
       " 'Mr. Blue Sky: The Story of Jeff Lynne & ELO (2012)',\n",
       " 'The Crush (1967)',\n",
       " 'Harvey (1996)',\n",
       " \"St. Martin's Lane (1938)\"]"
      ]
     },
     "execution_count": 90,
     "metadata": {},
     "output_type": "execute_result"
    }
   ],
   "source": [
    "recommendations"
   ]
  },
  {
   "cell_type": "code",
   "execution_count": 91,
   "id": "a68d5429-1f6a-4480-bbb9-97753fdb92ad",
   "metadata": {},
   "outputs": [],
   "source": [
    "import joblib"
   ]
  },
  {
   "cell_type": "code",
   "execution_count": 92,
   "id": "e2476c77-ac38-4731-90b4-975f386e2f16",
   "metadata": {},
   "outputs": [
    {
     "data": {
      "text/plain": [
       "['knn_sim.joblib']"
      ]
     },
     "execution_count": 92,
     "metadata": {},
     "output_type": "execute_result"
    }
   ],
   "source": [
    "joblib.dump(Knn_model, \"knn_sim.joblib\")"
   ]
  },
  {
   "cell_type": "code",
   "execution_count": null,
   "id": "dadc05f6-b7be-4521-85c5-274e6f73c813",
   "metadata": {},
   "outputs": [],
   "source": []
  },
  {
   "cell_type": "code",
   "execution_count": 16,
   "id": "bcb52b79",
   "metadata": {},
   "outputs": [
    {
     "name": "stdout",
     "output_type": "stream",
     "text": [
      "Evaluating RMSE, MAE of algorithm SVD on 5 split(s).\n",
      "\n",
      "                  Fold 1  Fold 2  Fold 3  Fold 4  Fold 5  Mean    Std     \n",
      "RMSE (testset)    0.8359  0.8347  0.8342  0.8343  0.8335  0.8345  0.0008  \n",
      "MAE (testset)     0.6376  0.6361  0.6357  0.6358  0.6354  0.6362  0.0008  \n",
      "Fit time          124.06  129.36  119.55  122.13  114.25  121.87  4.99    \n",
      "Test time         34.99   30.88   33.09   27.95   24.69   30.32   3.67    \n"
     ]
    },
    {
     "data": {
      "text/plain": [
       "{'test_rmse': array([0.83589183, 0.83466691, 0.83421856, 0.83431854, 0.83348297]),\n",
       " 'test_mae': array([0.6376367 , 0.63614984, 0.63574123, 0.63584994, 0.63542705]),\n",
       " 'fit_time': (124.05709910392761,\n",
       "  129.36240482330322,\n",
       "  119.54818558692932,\n",
       "  122.13179969787598,\n",
       "  114.24895453453064),\n",
       " 'test_time': (34.99195742607117,\n",
       "  30.88482093811035,\n",
       "  33.09029459953308,\n",
       "  27.9517023563385,\n",
       "  24.6851589679718)}"
      ]
     },
     "execution_count": 16,
     "metadata": {},
     "output_type": "execute_result"
    }
   ],
   "source": [
    "cross_validate(svd, data, measures=[\"RMSE\",\"MAE\"],cv=5,verbose=True)"
   ]
  },
  {
   "cell_type": "code",
   "execution_count": 25,
   "id": "0ac04171",
   "metadata": {},
   "outputs": [],
   "source": [
    "from surprise import PredictionImpossible"
   ]
  },
  {
   "cell_type": "code",
   "execution_count": null,
   "id": "e4ae74da",
   "metadata": {},
   "outputs": [],
   "source": []
  },
  {
   "cell_type": "code",
   "execution_count": 27,
   "id": "af5d665a",
   "metadata": {},
   "outputs": [
    {
     "data": {
      "text/plain": [
       "Prediction(uid=2, iid=6, r_ui=None, est=3.661902093457013, details={'was_impossible': False})"
      ]
     },
     "execution_count": 27,
     "metadata": {},
     "output_type": "execute_result"
    }
   ],
   "source": [
    "svd.predict(uid=2,iid=6)"
   ]
  }
 ],
 "metadata": {
  "kernelspec": {
   "display_name": "Machine Learning (CUDA)",
   "language": "python",
   "name": "machinelearning"
  },
  "language_info": {
   "codemirror_mode": {
    "name": "ipython",
    "version": 3
   },
   "file_extension": ".py",
   "mimetype": "text/x-python",
   "name": "python",
   "nbconvert_exporter": "python",
   "pygments_lexer": "ipython3",
   "version": "3.9.18"
  }
 },
 "nbformat": 4,
 "nbformat_minor": 5
}
